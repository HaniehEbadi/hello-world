{
 "cells": [
  {
   "cell_type": "code",
   "execution_count": 1,
   "id": "1ee88c3e",
   "metadata": {},
   "outputs": [],
   "source": [
    "import numpy as np\n",
    "import pandas as pd\n",
    "import matplotlib.pyplot as plt"
   ]
  },
  {
   "cell_type": "code",
   "execution_count": 249,
   "id": "5fb8f73f",
   "metadata": {},
   "outputs": [
    {
     "name": "stdout",
     "output_type": "stream",
     "text": [
      "(757, 11)\n"
     ]
    },
    {
     "data": {
      "text/html": [
       "<div>\n",
       "<style scoped>\n",
       "    .dataframe tbody tr th:only-of-type {\n",
       "        vertical-align: middle;\n",
       "    }\n",
       "\n",
       "    .dataframe tbody tr th {\n",
       "        vertical-align: top;\n",
       "    }\n",
       "\n",
       "    .dataframe thead th {\n",
       "        text-align: right;\n",
       "    }\n",
       "</style>\n",
       "<table border=\"1\" class=\"dataframe\">\n",
       "  <thead>\n",
       "    <tr style=\"text-align: right;\">\n",
       "      <th></th>\n",
       "      <th>ID</th>\n",
       "      <th>Location</th>\n",
       "      <th>Price_m</th>\n",
       "      <th>Price</th>\n",
       "      <th>Area</th>\n",
       "      <th>Construction</th>\n",
       "      <th>Parking</th>\n",
       "      <th>Warehouse</th>\n",
       "      <th>Elevator</th>\n",
       "      <th>Floor</th>\n",
       "      <th>Room</th>\n",
       "    </tr>\n",
       "  </thead>\n",
       "  <tbody>\n",
       "    <tr>\n",
       "      <th>0</th>\n",
       "      <td>1</td>\n",
       "      <td>گلشهر</td>\n",
       "      <td>8.500</td>\n",
       "      <td>680.0</td>\n",
       "      <td>80</td>\n",
       "      <td>1396</td>\n",
       "      <td>X</td>\n",
       "      <td>OK</td>\n",
       "      <td>OK</td>\n",
       "      <td>۱ از ۵</td>\n",
       "      <td>۲</td>\n",
       "    </tr>\n",
       "    <tr>\n",
       "      <th>1</th>\n",
       "      <td>2</td>\n",
       "      <td>گلشهر</td>\n",
       "      <td>8.909</td>\n",
       "      <td>980.0</td>\n",
       "      <td>110</td>\n",
       "      <td>1398</td>\n",
       "      <td>OK</td>\n",
       "      <td>OK</td>\n",
       "      <td>OK</td>\n",
       "      <td>۳ از ۵</td>\n",
       "      <td>۲</td>\n",
       "    </tr>\n",
       "    <tr>\n",
       "      <th>2</th>\n",
       "      <td>3</td>\n",
       "      <td>گلشهر</td>\n",
       "      <td>10.341</td>\n",
       "      <td>879.0</td>\n",
       "      <td>85</td>\n",
       "      <td>1395</td>\n",
       "      <td>OK</td>\n",
       "      <td>OK</td>\n",
       "      <td>OK</td>\n",
       "      <td>۵</td>\n",
       "      <td>۲</td>\n",
       "    </tr>\n",
       "    <tr>\n",
       "      <th>3</th>\n",
       "      <td>4</td>\n",
       "      <td>گلشهر</td>\n",
       "      <td>8.515</td>\n",
       "      <td>860.0</td>\n",
       "      <td>101</td>\n",
       "      <td>1400</td>\n",
       "      <td>OK</td>\n",
       "      <td>OK</td>\n",
       "      <td>OK</td>\n",
       "      <td>۵ از ۵</td>\n",
       "      <td>۲</td>\n",
       "    </tr>\n",
       "    <tr>\n",
       "      <th>4</th>\n",
       "      <td>5</td>\n",
       "      <td>گلشهر</td>\n",
       "      <td>8.846</td>\n",
       "      <td>1150.0</td>\n",
       "      <td>130</td>\n",
       "      <td>1400</td>\n",
       "      <td>OK</td>\n",
       "      <td>OK</td>\n",
       "      <td>OK</td>\n",
       "      <td>۷</td>\n",
       "      <td>۲</td>\n",
       "    </tr>\n",
       "  </tbody>\n",
       "</table>\n",
       "</div>"
      ],
      "text/plain": [
       "   ID Location  Price_m   Price  Area  Construction Parking Warehouse  \\\n",
       "0   1    گلشهر    8.500   680.0    80          1396       X        OK   \n",
       "1   2    گلشهر    8.909   980.0   110          1398      OK        OK   \n",
       "2   3    گلشهر   10.341   879.0    85          1395      OK        OK   \n",
       "3   4    گلشهر    8.515   860.0   101          1400      OK        OK   \n",
       "4   5    گلشهر    8.846  1150.0   130          1400      OK        OK   \n",
       "\n",
       "  Elevator   Floor Room  \n",
       "0       OK  ۱ از ۵    ۲  \n",
       "1       OK  ۳ از ۵    ۲  \n",
       "2       OK       ۵    ۲  \n",
       "3       OK  ۵ از ۵    ۲  \n",
       "4       OK       ۷    ۲  "
      ]
     },
     "execution_count": 249,
     "metadata": {},
     "output_type": "execute_result"
    }
   ],
   "source": [
    "df = pd.read_csv('golshahr.csv')\n",
    "print(df.shape)\n",
    "df.head()"
   ]
  },
  {
   "cell_type": "code",
   "execution_count": 251,
   "id": "8eacfb50",
   "metadata": {},
   "outputs": [
    {
     "name": "stdout",
     "output_type": "stream",
     "text": [
      "(757, 11)\n"
     ]
    },
    {
     "data": {
      "text/html": [
       "<div>\n",
       "<style scoped>\n",
       "    .dataframe tbody tr th:only-of-type {\n",
       "        vertical-align: middle;\n",
       "    }\n",
       "\n",
       "    .dataframe tbody tr th {\n",
       "        vertical-align: top;\n",
       "    }\n",
       "\n",
       "    .dataframe thead th {\n",
       "        text-align: right;\n",
       "    }\n",
       "</style>\n",
       "<table border=\"1\" class=\"dataframe\">\n",
       "  <thead>\n",
       "    <tr style=\"text-align: right;\">\n",
       "      <th></th>\n",
       "      <th>ID</th>\n",
       "      <th>Location</th>\n",
       "      <th>Price_m</th>\n",
       "      <th>Price</th>\n",
       "      <th>Area</th>\n",
       "      <th>Construction</th>\n",
       "      <th>Parking</th>\n",
       "      <th>Warehouse</th>\n",
       "      <th>Elevator</th>\n",
       "      <th>Floor</th>\n",
       "      <th>Room</th>\n",
       "    </tr>\n",
       "  </thead>\n",
       "  <tbody>\n",
       "    <tr>\n",
       "      <th>0</th>\n",
       "      <td>1</td>\n",
       "      <td>گلشهر</td>\n",
       "      <td>8.500</td>\n",
       "      <td>680.0</td>\n",
       "      <td>80</td>\n",
       "      <td>1396</td>\n",
       "      <td>X</td>\n",
       "      <td>OK</td>\n",
       "      <td>OK</td>\n",
       "      <td>۱.۵</td>\n",
       "      <td>2</td>\n",
       "    </tr>\n",
       "    <tr>\n",
       "      <th>1</th>\n",
       "      <td>2</td>\n",
       "      <td>گلشهر</td>\n",
       "      <td>8.909</td>\n",
       "      <td>980.0</td>\n",
       "      <td>110</td>\n",
       "      <td>1398</td>\n",
       "      <td>OK</td>\n",
       "      <td>OK</td>\n",
       "      <td>OK</td>\n",
       "      <td>۳.۵</td>\n",
       "      <td>2</td>\n",
       "    </tr>\n",
       "    <tr>\n",
       "      <th>2</th>\n",
       "      <td>3</td>\n",
       "      <td>گلشهر</td>\n",
       "      <td>10.341</td>\n",
       "      <td>879.0</td>\n",
       "      <td>85</td>\n",
       "      <td>1395</td>\n",
       "      <td>OK</td>\n",
       "      <td>OK</td>\n",
       "      <td>OK</td>\n",
       "      <td>۵</td>\n",
       "      <td>2</td>\n",
       "    </tr>\n",
       "    <tr>\n",
       "      <th>3</th>\n",
       "      <td>4</td>\n",
       "      <td>گلشهر</td>\n",
       "      <td>8.515</td>\n",
       "      <td>860.0</td>\n",
       "      <td>101</td>\n",
       "      <td>1400</td>\n",
       "      <td>OK</td>\n",
       "      <td>OK</td>\n",
       "      <td>OK</td>\n",
       "      <td>۵.۵</td>\n",
       "      <td>2</td>\n",
       "    </tr>\n",
       "    <tr>\n",
       "      <th>4</th>\n",
       "      <td>5</td>\n",
       "      <td>گلشهر</td>\n",
       "      <td>8.846</td>\n",
       "      <td>1150.0</td>\n",
       "      <td>130</td>\n",
       "      <td>1400</td>\n",
       "      <td>OK</td>\n",
       "      <td>OK</td>\n",
       "      <td>OK</td>\n",
       "      <td>۷</td>\n",
       "      <td>2</td>\n",
       "    </tr>\n",
       "  </tbody>\n",
       "</table>\n",
       "</div>"
      ],
      "text/plain": [
       "   ID Location  Price_m   Price  Area  Construction Parking Warehouse  \\\n",
       "0   1    گلشهر    8.500   680.0    80          1396       X        OK   \n",
       "1   2    گلشهر    8.909   980.0   110          1398      OK        OK   \n",
       "2   3    گلشهر   10.341   879.0    85          1395      OK        OK   \n",
       "3   4    گلشهر    8.515   860.0   101          1400      OK        OK   \n",
       "4   5    گلشهر    8.846  1150.0   130          1400      OK        OK   \n",
       "\n",
       "  Elevator Floor  Room  \n",
       "0       OK   ۱.۵     2  \n",
       "1       OK   ۳.۵     2  \n",
       "2       OK     ۵     2  \n",
       "3       OK   ۵.۵     2  \n",
       "4       OK     ۷     2  "
      ]
     },
     "execution_count": 251,
     "metadata": {},
     "output_type": "execute_result"
    }
   ],
   "source": [
    "df['Floor'] = df['Floor'].replace(' از ','.',regex = True)\n",
    "df['Room'] = df['Room'].replace('بدون اتاق',0,regex = True)\n",
    "df['Floor'] = df['Floor'].replace('زیرهمکف',-1,regex = True)\n",
    "df['Room'] = df['Room'].astype(int)\n",
    "print(df.shape)\n",
    "df.head()"
   ]
  },
  {
   "cell_type": "code",
   "execution_count": 252,
   "id": "4ce52b14",
   "metadata": {},
   "outputs": [
    {
     "data": {
      "text/html": [
       "<div>\n",
       "<style scoped>\n",
       "    .dataframe tbody tr th:only-of-type {\n",
       "        vertical-align: middle;\n",
       "    }\n",
       "\n",
       "    .dataframe tbody tr th {\n",
       "        vertical-align: top;\n",
       "    }\n",
       "\n",
       "    .dataframe thead th {\n",
       "        text-align: right;\n",
       "    }\n",
       "</style>\n",
       "<table border=\"1\" class=\"dataframe\">\n",
       "  <thead>\n",
       "    <tr style=\"text-align: right;\">\n",
       "      <th></th>\n",
       "      <th>ID</th>\n",
       "      <th>Location</th>\n",
       "      <th>Price_m</th>\n",
       "      <th>Price</th>\n",
       "      <th>Area</th>\n",
       "      <th>Construction</th>\n",
       "      <th>Parking</th>\n",
       "      <th>Warehouse</th>\n",
       "      <th>Elevator</th>\n",
       "      <th>Floor</th>\n",
       "      <th>Room</th>\n",
       "    </tr>\n",
       "  </thead>\n",
       "  <tbody>\n",
       "    <tr>\n",
       "      <th>0</th>\n",
       "      <td>1</td>\n",
       "      <td>گلشهر</td>\n",
       "      <td>8.500</td>\n",
       "      <td>680.0</td>\n",
       "      <td>80</td>\n",
       "      <td>1396</td>\n",
       "      <td>X</td>\n",
       "      <td>OK</td>\n",
       "      <td>OK</td>\n",
       "      <td>1.5</td>\n",
       "      <td>2</td>\n",
       "    </tr>\n",
       "    <tr>\n",
       "      <th>1</th>\n",
       "      <td>2</td>\n",
       "      <td>گلشهر</td>\n",
       "      <td>8.909</td>\n",
       "      <td>980.0</td>\n",
       "      <td>110</td>\n",
       "      <td>1398</td>\n",
       "      <td>OK</td>\n",
       "      <td>OK</td>\n",
       "      <td>OK</td>\n",
       "      <td>3.5</td>\n",
       "      <td>2</td>\n",
       "    </tr>\n",
       "    <tr>\n",
       "      <th>2</th>\n",
       "      <td>3</td>\n",
       "      <td>گلشهر</td>\n",
       "      <td>10.341</td>\n",
       "      <td>879.0</td>\n",
       "      <td>85</td>\n",
       "      <td>1395</td>\n",
       "      <td>OK</td>\n",
       "      <td>OK</td>\n",
       "      <td>OK</td>\n",
       "      <td>5.0</td>\n",
       "      <td>2</td>\n",
       "    </tr>\n",
       "    <tr>\n",
       "      <th>3</th>\n",
       "      <td>4</td>\n",
       "      <td>گلشهر</td>\n",
       "      <td>8.515</td>\n",
       "      <td>860.0</td>\n",
       "      <td>101</td>\n",
       "      <td>1400</td>\n",
       "      <td>OK</td>\n",
       "      <td>OK</td>\n",
       "      <td>OK</td>\n",
       "      <td>5.5</td>\n",
       "      <td>2</td>\n",
       "    </tr>\n",
       "    <tr>\n",
       "      <th>4</th>\n",
       "      <td>5</td>\n",
       "      <td>گلشهر</td>\n",
       "      <td>8.846</td>\n",
       "      <td>1150.0</td>\n",
       "      <td>130</td>\n",
       "      <td>1400</td>\n",
       "      <td>OK</td>\n",
       "      <td>OK</td>\n",
       "      <td>OK</td>\n",
       "      <td>7.0</td>\n",
       "      <td>2</td>\n",
       "    </tr>\n",
       "  </tbody>\n",
       "</table>\n",
       "</div>"
      ],
      "text/plain": [
       "   ID Location  Price_m   Price  Area  Construction Parking Warehouse  \\\n",
       "0   1    گلشهر    8.500   680.0    80          1396       X        OK   \n",
       "1   2    گلشهر    8.909   980.0   110          1398      OK        OK   \n",
       "2   3    گلشهر   10.341   879.0    85          1395      OK        OK   \n",
       "3   4    گلشهر    8.515   860.0   101          1400      OK        OK   \n",
       "4   5    گلشهر    8.846  1150.0   130          1400      OK        OK   \n",
       "\n",
       "  Elevator  Floor  Room  \n",
       "0       OK    1.5     2  \n",
       "1       OK    3.5     2  \n",
       "2       OK    5.0     2  \n",
       "3       OK    5.5     2  \n",
       "4       OK    7.0     2  "
      ]
     },
     "execution_count": 252,
     "metadata": {},
     "output_type": "execute_result"
    }
   ],
   "source": [
    "df['Floor'] = df['Floor'].replace('همکف',0,regex = True)\n",
    "df['Floor'] = df['Floor'].astype(float)\n",
    "df.head()"
   ]
  },
  {
   "cell_type": "code",
   "execution_count": 254,
   "id": "e5ac6b2a",
   "metadata": {},
   "outputs": [
    {
     "data": {
      "text/html": [
       "<div>\n",
       "<style scoped>\n",
       "    .dataframe tbody tr th:only-of-type {\n",
       "        vertical-align: middle;\n",
       "    }\n",
       "\n",
       "    .dataframe tbody tr th {\n",
       "        vertical-align: top;\n",
       "    }\n",
       "\n",
       "    .dataframe thead th {\n",
       "        text-align: right;\n",
       "    }\n",
       "</style>\n",
       "<table border=\"1\" class=\"dataframe\">\n",
       "  <thead>\n",
       "    <tr style=\"text-align: right;\">\n",
       "      <th></th>\n",
       "      <th>ID</th>\n",
       "      <th>Location</th>\n",
       "      <th>Price_m</th>\n",
       "      <th>Price</th>\n",
       "      <th>Area</th>\n",
       "      <th>Construction</th>\n",
       "      <th>Parking</th>\n",
       "      <th>Warehouse</th>\n",
       "      <th>Elevator</th>\n",
       "      <th>Floor</th>\n",
       "      <th>Room</th>\n",
       "    </tr>\n",
       "  </thead>\n",
       "  <tbody>\n",
       "    <tr>\n",
       "      <th>0</th>\n",
       "      <td>1</td>\n",
       "      <td>گلشهر</td>\n",
       "      <td>8.500</td>\n",
       "      <td>680.0</td>\n",
       "      <td>80</td>\n",
       "      <td>1396</td>\n",
       "      <td>1</td>\n",
       "      <td>0</td>\n",
       "      <td>0</td>\n",
       "      <td>1.5</td>\n",
       "      <td>2</td>\n",
       "    </tr>\n",
       "    <tr>\n",
       "      <th>1</th>\n",
       "      <td>2</td>\n",
       "      <td>گلشهر</td>\n",
       "      <td>8.909</td>\n",
       "      <td>980.0</td>\n",
       "      <td>110</td>\n",
       "      <td>1398</td>\n",
       "      <td>0</td>\n",
       "      <td>0</td>\n",
       "      <td>0</td>\n",
       "      <td>3.5</td>\n",
       "      <td>2</td>\n",
       "    </tr>\n",
       "    <tr>\n",
       "      <th>2</th>\n",
       "      <td>3</td>\n",
       "      <td>گلشهر</td>\n",
       "      <td>10.341</td>\n",
       "      <td>879.0</td>\n",
       "      <td>85</td>\n",
       "      <td>1395</td>\n",
       "      <td>0</td>\n",
       "      <td>0</td>\n",
       "      <td>0</td>\n",
       "      <td>5.0</td>\n",
       "      <td>2</td>\n",
       "    </tr>\n",
       "    <tr>\n",
       "      <th>3</th>\n",
       "      <td>4</td>\n",
       "      <td>گلشهر</td>\n",
       "      <td>8.515</td>\n",
       "      <td>860.0</td>\n",
       "      <td>101</td>\n",
       "      <td>1400</td>\n",
       "      <td>0</td>\n",
       "      <td>0</td>\n",
       "      <td>0</td>\n",
       "      <td>5.5</td>\n",
       "      <td>2</td>\n",
       "    </tr>\n",
       "    <tr>\n",
       "      <th>4</th>\n",
       "      <td>5</td>\n",
       "      <td>گلشهر</td>\n",
       "      <td>8.846</td>\n",
       "      <td>1150.0</td>\n",
       "      <td>130</td>\n",
       "      <td>1400</td>\n",
       "      <td>0</td>\n",
       "      <td>0</td>\n",
       "      <td>0</td>\n",
       "      <td>7.0</td>\n",
       "      <td>2</td>\n",
       "    </tr>\n",
       "  </tbody>\n",
       "</table>\n",
       "</div>"
      ],
      "text/plain": [
       "   ID Location  Price_m   Price  Area  Construction  Parking  Warehouse  \\\n",
       "0   1    گلشهر    8.500   680.0    80          1396        1          0   \n",
       "1   2    گلشهر    8.909   980.0   110          1398        0          0   \n",
       "2   3    گلشهر   10.341   879.0    85          1395        0          0   \n",
       "3   4    گلشهر    8.515   860.0   101          1400        0          0   \n",
       "4   5    گلشهر    8.846  1150.0   130          1400        0          0   \n",
       "\n",
       "   Elevator  Floor  Room  \n",
       "0         0    1.5     2  \n",
       "1         0    3.5     2  \n",
       "2         0    5.0     2  \n",
       "3         0    5.5     2  \n",
       "4         0    7.0     2  "
      ]
     },
     "execution_count": 254,
     "metadata": {},
     "output_type": "execute_result"
    }
   ],
   "source": [
    "from sklearn.preprocessing import LabelEncoder\n",
    "le = LabelEncoder()\n",
    "le.fit(df['Parking'])\n",
    "df['Parking'] = le.transform(df['Parking'])\n",
    "df['Warehouse'] = le.transform(df['Warehouse'])\n",
    "df['Elevator'] = le.transform(df['Elevator'])\n",
    "df.head()"
   ]
  },
  {
   "cell_type": "code",
   "execution_count": 255,
   "id": "c781ecdb",
   "metadata": {},
   "outputs": [
    {
     "data": {
      "text/html": [
       "<div>\n",
       "<style scoped>\n",
       "    .dataframe tbody tr th:only-of-type {\n",
       "        vertical-align: middle;\n",
       "    }\n",
       "\n",
       "    .dataframe tbody tr th {\n",
       "        vertical-align: top;\n",
       "    }\n",
       "\n",
       "    .dataframe thead th {\n",
       "        text-align: right;\n",
       "    }\n",
       "</style>\n",
       "<table border=\"1\" class=\"dataframe\">\n",
       "  <thead>\n",
       "    <tr style=\"text-align: right;\">\n",
       "      <th></th>\n",
       "      <th>Area</th>\n",
       "      <th>Price_m</th>\n",
       "      <th>Parking</th>\n",
       "      <th>Elevator</th>\n",
       "      <th>Floor</th>\n",
       "      <th>Warehouse</th>\n",
       "      <th>Room</th>\n",
       "      <th>Construction</th>\n",
       "      <th>Price</th>\n",
       "    </tr>\n",
       "  </thead>\n",
       "  <tbody>\n",
       "    <tr>\n",
       "      <th>0</th>\n",
       "      <td>80</td>\n",
       "      <td>8.500</td>\n",
       "      <td>1</td>\n",
       "      <td>0</td>\n",
       "      <td>1.5</td>\n",
       "      <td>0</td>\n",
       "      <td>2</td>\n",
       "      <td>1396</td>\n",
       "      <td>680.0</td>\n",
       "    </tr>\n",
       "    <tr>\n",
       "      <th>1</th>\n",
       "      <td>110</td>\n",
       "      <td>8.909</td>\n",
       "      <td>0</td>\n",
       "      <td>0</td>\n",
       "      <td>3.5</td>\n",
       "      <td>0</td>\n",
       "      <td>2</td>\n",
       "      <td>1398</td>\n",
       "      <td>980.0</td>\n",
       "    </tr>\n",
       "    <tr>\n",
       "      <th>2</th>\n",
       "      <td>85</td>\n",
       "      <td>10.341</td>\n",
       "      <td>0</td>\n",
       "      <td>0</td>\n",
       "      <td>5.0</td>\n",
       "      <td>0</td>\n",
       "      <td>2</td>\n",
       "      <td>1395</td>\n",
       "      <td>879.0</td>\n",
       "    </tr>\n",
       "    <tr>\n",
       "      <th>3</th>\n",
       "      <td>101</td>\n",
       "      <td>8.515</td>\n",
       "      <td>0</td>\n",
       "      <td>0</td>\n",
       "      <td>5.5</td>\n",
       "      <td>0</td>\n",
       "      <td>2</td>\n",
       "      <td>1400</td>\n",
       "      <td>860.0</td>\n",
       "    </tr>\n",
       "    <tr>\n",
       "      <th>4</th>\n",
       "      <td>130</td>\n",
       "      <td>8.846</td>\n",
       "      <td>0</td>\n",
       "      <td>0</td>\n",
       "      <td>7.0</td>\n",
       "      <td>0</td>\n",
       "      <td>2</td>\n",
       "      <td>1400</td>\n",
       "      <td>1150.0</td>\n",
       "    </tr>\n",
       "  </tbody>\n",
       "</table>\n",
       "</div>"
      ],
      "text/plain": [
       "   Area  Price_m  Parking  Elevator  Floor  Warehouse  Room  Construction  \\\n",
       "0    80    8.500        1         0    1.5          0     2          1396   \n",
       "1   110    8.909        0         0    3.5          0     2          1398   \n",
       "2    85   10.341        0         0    5.0          0     2          1395   \n",
       "3   101    8.515        0         0    5.5          0     2          1400   \n",
       "4   130    8.846        0         0    7.0          0     2          1400   \n",
       "\n",
       "    Price  \n",
       "0   680.0  \n",
       "1   980.0  \n",
       "2   879.0  \n",
       "3   860.0  \n",
       "4  1150.0  "
      ]
     },
     "execution_count": 255,
     "metadata": {},
     "output_type": "execute_result"
    }
   ],
   "source": [
    "cdf = df[['Area', 'Price_m', 'Parking', 'Elevator', 'Floor', 'Warehouse', 'Room', 'Construction', 'Price']]\n",
    "cdf.head()"
   ]
  },
  {
   "cell_type": "code",
   "execution_count": 256,
   "id": "a2f1c9c1",
   "metadata": {},
   "outputs": [
    {
     "name": "stderr",
     "output_type": "stream",
     "text": [
      "C:\\Users\\Hanie\\AppData\\Local\\Temp/ipykernel_9912/274854468.py:2: SettingWithCopyWarning: \n",
      "A value is trying to be set on a copy of a slice from a DataFrame.\n",
      "Try using .loc[row_indexer,col_indexer] = value instead\n",
      "\n",
      "See the caveats in the documentation: https://pandas.pydata.org/pandas-docs/stable/user_guide/indexing.html#returning-a-view-versus-a-copy\n",
      "  cdf['Room']=cdf['Room'].astype(int)\n"
     ]
    },
    {
     "data": {
      "text/plain": [
       "0      2\n",
       "1      2\n",
       "2      2\n",
       "3      2\n",
       "4      2\n",
       "      ..\n",
       "752    2\n",
       "753    1\n",
       "754    2\n",
       "755    3\n",
       "756    2\n",
       "Name: Room, Length: 757, dtype: int32"
      ]
     },
     "execution_count": 256,
     "metadata": {},
     "output_type": "execute_result"
    }
   ],
   "source": [
    "#cdf.describe()\n",
    "cdf['Room']=cdf['Room'].astype(int)\n",
    "cdf['Room']"
   ]
  },
  {
   "cell_type": "code",
   "execution_count": 257,
   "id": "0b5159ef",
   "metadata": {},
   "outputs": [
    {
     "data": {
      "image/png": "[encoded data removed]",
      "text/plain": [
       "<Figure size 432x288 with 1 Axes>"
      ]
     },
     "metadata": {
      "needs_background": "light"
     },
     "output_type": "display_data"
    },
    {
     "data": {
      "image/png": "[encoded data removed]",
      "text/plain": [
       "<Figure size 432x288 with 1 Axes>"
      ]
     },
     "metadata": {
      "needs_background": "light"
     },
     "output_type": "display_data"
    }
   ],
   "source": [
    "vizP = cdf[['Price_m']]\n",
    "vizA = cdf[['Area']]\n",
    "vizP.hist()\n",
    "vizA.hist()\n",
    "plt.show()"
   ]
  },
  {
   "cell_type": "code",
   "execution_count": 258,
   "id": "ab4ee1d4",
   "metadata": {},
   "outputs": [
    {
     "data": {
      "image/png": "[encoded data removed]",
      "text/plain": [
       "<Figure size 432x288 with 1 Axes>"
      ]
     },
     "metadata": {
      "needs_background": "light"
     },
     "output_type": "display_data"
    }
   ],
   "source": [
    "plt.scatter(cdf.Area, cdf.Price,  color='blue')\n",
    "plt.xlabel('Area')\n",
    "plt.ylabel('Price')\n",
    "plt.show()"
   ]
  },
  {
   "cell_type": "code",
   "execution_count": 259,
   "id": "aa3e3f16",
   "metadata": {},
   "outputs": [
    {
     "data": {
      "text/plain": [
       "(589, 9)"
      ]
     },
     "execution_count": 259,
     "metadata": {},
     "output_type": "execute_result"
    }
   ],
   "source": [
    "#Separation of charter houses\n",
    "cdf = cdf[cdf['Price_m']<15]\n",
    "cdf = cdf[cdf['Price_m']>6]\n",
    "cdf = cdf[cdf['Area']<180]\n",
    "#cdf = cdf[cdf['َPrice_m']>8]\n",
    "cdf.shape"
   ]
  },
  {
   "cell_type": "code",
   "execution_count": 260,
   "id": "ae19677c",
   "metadata": {},
   "outputs": [
    {
     "data": {
      "image/png": "[encoded data removed]",
      "text/plain": [
       "<Figure size 432x288 with 1 Axes>"
      ]
     },
     "metadata": {
      "needs_background": "light"
     },
     "output_type": "display_data"
    },
    {
     "data": {
      "text/html": [
       "<div>\n",
       "<style scoped>\n",
       "    .dataframe tbody tr th:only-of-type {\n",
       "        vertical-align: middle;\n",
       "    }\n",
       "\n",
       "    .dataframe tbody tr th {\n",
       "        vertical-align: top;\n",
       "    }\n",
       "\n",
       "    .dataframe thead th {\n",
       "        text-align: right;\n",
       "    }\n",
       "</style>\n",
       "<table border=\"1\" class=\"dataframe\">\n",
       "  <thead>\n",
       "    <tr style=\"text-align: right;\">\n",
       "      <th></th>\n",
       "      <th>Area</th>\n",
       "      <th>Price_m</th>\n",
       "      <th>Parking</th>\n",
       "      <th>Elevator</th>\n",
       "      <th>Floor</th>\n",
       "      <th>Warehouse</th>\n",
       "      <th>Room</th>\n",
       "      <th>Construction</th>\n",
       "      <th>Price</th>\n",
       "    </tr>\n",
       "  </thead>\n",
       "  <tbody>\n",
       "    <tr>\n",
       "      <th>count</th>\n",
       "      <td>589.000000</td>\n",
       "      <td>589.000000</td>\n",
       "      <td>589.000000</td>\n",
       "      <td>589.000000</td>\n",
       "      <td>589.000000</td>\n",
       "      <td>589.000000</td>\n",
       "      <td>589.000000</td>\n",
       "      <td>589.000000</td>\n",
       "      <td>589.000000</td>\n",
       "    </tr>\n",
       "    <tr>\n",
       "      <th>mean</th>\n",
       "      <td>109.692699</td>\n",
       "      <td>11.361728</td>\n",
       "      <td>0.086587</td>\n",
       "      <td>0.006791</td>\n",
       "      <td>3.457402</td>\n",
       "      <td>0.008489</td>\n",
       "      <td>2.108659</td>\n",
       "      <td>1398.383701</td>\n",
       "      <td>1252.964177</td>\n",
       "    </tr>\n",
       "    <tr>\n",
       "      <th>std</th>\n",
       "      <td>24.646045</td>\n",
       "      <td>1.586008</td>\n",
       "      <td>0.281469</td>\n",
       "      <td>0.082198</td>\n",
       "      <td>1.630374</td>\n",
       "      <td>0.091822</td>\n",
       "      <td>0.461154</td>\n",
       "      <td>1.888600</td>\n",
       "      <td>352.844319</td>\n",
       "    </tr>\n",
       "    <tr>\n",
       "      <th>min</th>\n",
       "      <td>50.000000</td>\n",
       "      <td>6.267000</td>\n",
       "      <td>0.000000</td>\n",
       "      <td>0.000000</td>\n",
       "      <td>-1.000000</td>\n",
       "      <td>0.000000</td>\n",
       "      <td>1.000000</td>\n",
       "      <td>1395.000000</td>\n",
       "      <td>470.000000</td>\n",
       "    </tr>\n",
       "    <tr>\n",
       "      <th>25%</th>\n",
       "      <td>92.000000</td>\n",
       "      <td>10.286000</td>\n",
       "      <td>0.000000</td>\n",
       "      <td>0.000000</td>\n",
       "      <td>2.000000</td>\n",
       "      <td>0.000000</td>\n",
       "      <td>2.000000</td>\n",
       "      <td>1397.000000</td>\n",
       "      <td>980.000000</td>\n",
       "    </tr>\n",
       "    <tr>\n",
       "      <th>50%</th>\n",
       "      <td>110.000000</td>\n",
       "      <td>11.500000</td>\n",
       "      <td>0.000000</td>\n",
       "      <td>0.000000</td>\n",
       "      <td>3.500000</td>\n",
       "      <td>0.000000</td>\n",
       "      <td>2.000000</td>\n",
       "      <td>1399.000000</td>\n",
       "      <td>1250.000000</td>\n",
       "    </tr>\n",
       "    <tr>\n",
       "      <th>75%</th>\n",
       "      <td>125.000000</td>\n",
       "      <td>12.404000</td>\n",
       "      <td>0.000000</td>\n",
       "      <td>0.000000</td>\n",
       "      <td>4.600000</td>\n",
       "      <td>0.000000</td>\n",
       "      <td>2.000000</td>\n",
       "      <td>1400.000000</td>\n",
       "      <td>1499.000000</td>\n",
       "    </tr>\n",
       "    <tr>\n",
       "      <th>max</th>\n",
       "      <td>178.000000</td>\n",
       "      <td>14.985000</td>\n",
       "      <td>1.000000</td>\n",
       "      <td>1.000000</td>\n",
       "      <td>7.700000</td>\n",
       "      <td>1.000000</td>\n",
       "      <td>4.000000</td>\n",
       "      <td>1400.000000</td>\n",
       "      <td>2398.000000</td>\n",
       "    </tr>\n",
       "  </tbody>\n",
       "</table>\n",
       "</div>"
      ],
      "text/plain": [
       "             Area     Price_m     Parking    Elevator       Floor   Warehouse  \\\n",
       "count  589.000000  589.000000  589.000000  589.000000  589.000000  589.000000   \n",
       "mean   109.692699   11.361728    0.086587    0.006791    3.457402    0.008489   \n",
       "std     24.646045    1.586008    0.281469    0.082198    1.630374    0.091822   \n",
       "min     50.000000    6.267000    0.000000    0.000000   -1.000000    0.000000   \n",
       "25%     92.000000   10.286000    0.000000    0.000000    2.000000    0.000000   \n",
       "50%    110.000000   11.500000    0.000000    0.000000    3.500000    0.000000   \n",
       "75%    125.000000   12.404000    0.000000    0.000000    4.600000    0.000000   \n",
       "max    178.000000   14.985000    1.000000    1.000000    7.700000    1.000000   \n",
       "\n",
       "             Room  Construction        Price  \n",
       "count  589.000000    589.000000   589.000000  \n",
       "mean     2.108659   1398.383701  1252.964177  \n",
       "std      0.461154      1.888600   352.844319  \n",
       "min      1.000000   1395.000000   470.000000  \n",
       "25%      2.000000   1397.000000   980.000000  \n",
       "50%      2.000000   1399.000000  1250.000000  \n",
       "75%      2.000000   1400.000000  1499.000000  \n",
       "max      4.000000   1400.000000  2398.000000  "
      ]
     },
     "execution_count": 260,
     "metadata": {},
     "output_type": "execute_result"
    }
   ],
   "source": [
    "plt.scatter(cdf.Area, cdf.Price,  color='blue')\n",
    "plt.xlabel('Area')\n",
    "plt.ylabel('Price')\n",
    "plt.show()\n",
    "cdf.describe()"
   ]
  },
  {
   "cell_type": "code",
   "execution_count": 261,
   "id": "961d0b3a",
   "metadata": {},
   "outputs": [],
   "source": [
    "msk = np.random.rand(len(cdf)) < 0.8\n",
    "train = cdf[msk]\n",
    "test = cdf[~msk]"
   ]
  },
  {
   "cell_type": "markdown",
   "id": "b2787e7f",
   "metadata": {},
   "source": [
    "# Simple Linear Regression"
   ]
  },
  {
   "cell_type": "code",
   "execution_count": 185,
   "id": "e278d317",
   "metadata": {},
   "outputs": [
    {
     "name": "stdout",
     "output_type": "stream",
     "text": [
      "Coefficients:  [[12.50843687]]\n",
      "Intercept:  [-118.84297912]\n"
     ]
    }
   ],
   "source": [
    "from sklearn import linear_model\n",
    "regr = linear_model.LinearRegression()\n",
    "train_x = np.asanyarray(train[['Area']])\n",
    "train_y = np.asanyarray(train[['Price']])\n",
    "regr.fit (train_x, train_y)\n",
    "# The coefficients\n",
    "print ('Coefficients: ', regr.coef_)\n",
    "print ('Intercept: ',regr.intercept_)"
   ]
  },
  {
   "cell_type": "code",
   "execution_count": 187,
   "id": "66357261",
   "metadata": {},
   "outputs": [
    {
     "data": {
      "text/plain": [
       "Text(0, 0.5, 'Price')"
      ]
     },
     "execution_count": 187,
     "metadata": {},
     "output_type": "execute_result"
    },
    {
     "data": {
      "image/png": "[encoded data removed]",
      "text/plain": [
       "<Figure size 432x288 with 1 Axes>"
      ]
     },
     "metadata": {
      "needs_background": "light"
     },
     "output_type": "display_data"
    }
   ],
   "source": [
    "plt.scatter(train.Area, train.Price,  color='blue')\n",
    "plt.plot(train_x, regr.coef_[0][0]*train_x + regr.intercept_[0], '-r')\n",
    "plt.xlabel(\"Area\")\n",
    "plt.ylabel(\"Price\")"
   ]
  },
  {
   "cell_type": "code",
   "execution_count": 195,
   "id": "5986d3c1",
   "metadata": {},
   "outputs": [
    {
     "name": "stdout",
     "output_type": "stream",
     "text": [
      "Mean absolute error: 124.78\n",
      "Residual sum of squares (MSE): 23082.80\n",
      "R2-score: 0.79\n"
     ]
    }
   ],
   "source": [
    "from sklearn.metrics import r2_score\n",
    "\n",
    "test_x = np.asanyarray(test[['Area']])\n",
    "test_y = np.asanyarray(test[['Price']])\n",
    "test_y_ = regr.predict(test_x)\n",
    "\n",
    "print(\"Mean absolute error: %.2f\" % np.mean(np.absolute(test_y_ - test_y)))\n",
    "print(\"Residual sum of squares (MSE): %.2f\" % np.mean((test_y_ - test_y) ** 2))\n",
    "print(\"R2-score: %.2f\" % r2_score(test_y , test_y_) )\n"
   ]
  },
  {
   "cell_type": "code",
   "execution_count": 198,
   "id": "a99869f3",
   "metadata": {},
   "outputs": [
    {
     "data": {
      "text/plain": [
       "array([[756.74760201],\n",
       "       [819.28978638]])"
      ]
     },
     "execution_count": 198,
     "metadata": {},
     "output_type": "execute_result"
    }
   ],
   "source": [
    "Area = [[70],[75]]\n",
    "PredictMyHouse = regr.predict(Area)\n",
    "PredictMyHouse"
   ]
  },
  {
   "cell_type": "markdown",
   "id": "5406f0b9",
   "metadata": {},
   "source": [
    "# Polynomial Regression"
   ]
  },
  {
   "cell_type": "code",
   "execution_count": 220,
   "id": "49bcdf3c",
   "metadata": {},
   "outputs": [
    {
     "data": {
      "text/plain": [
       "array([[1.0000e+00, 8.0000e+01, 6.4000e+03],\n",
       "       [1.0000e+00, 8.5000e+01, 7.2250e+03],\n",
       "       [1.0000e+00, 1.0100e+02, 1.0201e+04],\n",
       "       ...,\n",
       "       [1.0000e+00, 8.5000e+01, 7.2250e+03],\n",
       "       [1.0000e+00, 6.5000e+01, 4.2250e+03],\n",
       "       [1.0000e+00, 1.0500e+02, 1.1025e+04]])"
      ]
     },
     "execution_count": 220,
     "metadata": {},
     "output_type": "execute_result"
    }
   ],
   "source": [
    "from sklearn.preprocessing import PolynomialFeatures\n",
    "from sklearn import linear_model\n",
    "train_x = np.asanyarray(train[['Area']])\n",
    "train_y = np.asanyarray(train[['Price']])\n",
    "\n",
    "test_x = np.asanyarray(test[['Area']])\n",
    "test_y = np.asanyarray(test[['Price']])\n",
    "\n",
    "\n",
    "poly = PolynomialFeatures(degree=2)\n",
    "train_x_poly = poly.fit_transform(train_x)\n",
    "train_x_poly"
   ]
  },
  {
   "cell_type": "code",
   "execution_count": 221,
   "id": "b65d8a83",
   "metadata": {},
   "outputs": [
    {
     "name": "stdout",
     "output_type": "stream",
     "text": [
      "Coefficients:  [[ 0.         10.25718018  0.01036676]]\n",
      "Intercept:  [-1.97848314]\n"
     ]
    }
   ],
   "source": [
    "clf = linear_model.LinearRegression()\n",
    "train_y_ = clf.fit(train_x_poly, train_y)\n",
    "# The coefficients\n",
    "print ('Coefficients: ', clf.coef_)\n",
    "print ('Intercept: ',clf.intercept_)"
   ]
  },
  {
   "cell_type": "code",
   "execution_count": 222,
   "id": "613bcb47",
   "metadata": {},
   "outputs": [
    {
     "data": {
      "text/plain": [
       "Text(0, 0.5, 'Emission')"
      ]
     },
     "execution_count": 222,
     "metadata": {},
     "output_type": "execute_result"
    },
    {
     "data": {
      "image/png": "[encoded data removed]",
      "text/plain": [
       "<Figure size 432x288 with 1 Axes>"
      ]
     },
     "metadata": {
      "needs_background": "light"
     },
     "output_type": "display_data"
    }
   ],
   "source": [
    "plt.scatter(train.Area, train.Price,  color='blue')\n",
    "XX = np.arange(50.0, 180.0, 0.1)\n",
    "yy = clf.intercept_[0]+ clf.coef_[0][1]*XX+ clf.coef_[0][2]*np.power(XX, 2)\n",
    "plt.plot(XX, yy, '-r' )\n",
    "plt.xlabel(\"Engine size\")\n",
    "plt.ylabel(\"Emission\")"
   ]
  },
  {
   "cell_type": "code",
   "execution_count": 223,
   "id": "8bd3c846",
   "metadata": {},
   "outputs": [
    {
     "name": "stdout",
     "output_type": "stream",
     "text": [
      "Mean absolute error: 121.30\n",
      "Residual sum of squares (MSE): 23957.46\n",
      "R2-score: 0.76\n"
     ]
    }
   ],
   "source": [
    "from sklearn.metrics import r2_score\n",
    "\n",
    "test_x_poly = poly.fit_transform(test_x)\n",
    "test_y_ = clf.predict(test_x_poly)\n",
    "\n",
    "print(\"Mean absolute error: %.2f\" % np.mean(np.absolute(test_y_ - test_y)))\n",
    "print(\"Residual sum of squares (MSE): %.2f\" % np.mean((test_y_ - test_y) ** 2))\n",
    "print(\"R2-score: %.2f\" % r2_score(test_y,test_y_ ) )"
   ]
  },
  {
   "cell_type": "code",
   "execution_count": 224,
   "id": "2a294799",
   "metadata": {},
   "outputs": [
    {
     "data": {
      "text/plain": [
       "array([[756.74760201],\n",
       "       [819.28978638]])"
      ]
     },
     "execution_count": 224,
     "metadata": {},
     "output_type": "execute_result"
    }
   ],
   "source": [
    "Area = [[70],[75]]\n",
    "PredictMyHouse = regr.predict(Area)\n",
    "PredictMyHouse"
   ]
  },
  {
   "cell_type": "markdown",
   "id": "66461455",
   "metadata": {},
   "source": [
    "# Multiple Linear Regression"
   ]
  },
  {
   "cell_type": "code",
   "execution_count": 262,
   "id": "3bed3b78",
   "metadata": {},
   "outputs": [
    {
     "name": "stdout",
     "output_type": "stream",
     "text": [
      "Coefficients:  [[ 11.04787853 -84.77883705  83.71693763]]\n",
      "Intercept:  [-124.92278814]\n"
     ]
    }
   ],
   "source": [
    "from sklearn import linear_model\n",
    "regr = linear_model.LinearRegression()\n",
    "x = np.asanyarray(train[['Area','Parking','Room']])\n",
    "y = np.asanyarray(train[['Price']])\n",
    "regr.fit (x, y)\n",
    "# The coefficients\n",
    "print ('Coefficients: ', regr.coef_)\n",
    "print ('Intercept: ', regr.intercept_)"
   ]
  },
  {
   "cell_type": "code",
   "execution_count": 273,
   "id": "9cf0ff26",
   "metadata": {},
   "outputs": [
    {
     "name": "stdout",
     "output_type": "stream",
     "text": [
      "Residual sum of squares: 22075.43\n",
      "Variance score: 0.82\n"
     ]
    },
    {
     "name": "stderr",
     "output_type": "stream",
     "text": [
      "C:\\Users\\Hanie\\AppData\\Local\\Packages\\PythonSoftwareFoundation.Python.3.9_qbz5n2kfra8p0\\LocalCache\\local-packages\\Python39\\site-packages\\sklearn\\base.py:438: UserWarning: X has feature names, but LinearRegression was fitted without feature names\n",
      "  warnings.warn(\n"
     ]
    }
   ],
   "source": [
    "y_hat= regr.predict(test[['Area','Parking','Room']])\n",
    "x = np.asanyarray(test[['Area','Parking','Room']])\n",
    "y = np.asanyarray(test[['Price']])\n",
    "print(\"Residual sum of squares: %.2f\"\n",
    "      % np.mean((y_hat - y) ** 2))\n",
    "\n",
    "# Explained variance score: 1 is perfect prediction\n",
    "print('Variance score: %.2f' % regr.score(x, y))"
   ]
  },
  {
   "cell_type": "code",
   "execution_count": 272,
   "id": "4f11fe74",
   "metadata": {},
   "outputs": [
    {
     "data": {
      "text/plain": [
       "array([[647.36680988],\n",
       "       [731.08374751],\n",
       "       [732.14564693]])"
      ]
     },
     "execution_count": 272,
     "metadata": {},
     "output_type": "execute_result"
    }
   ],
   "source": [
    "myhouse = [[70,1,1],[70,1,2],[70,0,1]]\n",
    "PredictMyHouse = regr.predict(myhouse)\n",
    "PredictMyHouse"
   ]
  }
 ],
 "metadata": {
  "kernelspec": {
   "display_name": "Python 3 (ipykernel)",
   "language": "python",
   "name": "python3"
  },
  "language_info": {
   "codemirror_mode": {
    "name": "ipython",
    "version": 3
   },
   "file_extension": ".py",
   "mimetype": "text/x-python",
   "name": "python",
   "nbconvert_exporter": "python",
   "pygments_lexer": "ipython3",
   "version": "3.9.10"
  }
 },
 "nbformat": 4,
 "nbformat_minor": 5
}
